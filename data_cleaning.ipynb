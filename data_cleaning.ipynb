{
 "cells": [
  {
   "cell_type": "code",
   "execution_count": 19,
   "metadata": {},
   "outputs": [],
   "source": [
    "import pandas as pd\n",
    "df_200 = pd.read_csv('cleaned/200_mn.csv')\n",
    "df_100 = pd.read_csv('cleaned/100_mn.csv')\n",
    "df_50 = pd.read_csv('cleaned/50_mn.csv')"
   ]
  },
  {
   "cell_type": "code",
   "execution_count": 17,
   "metadata": {},
   "outputs": [
    {
     "data": {
      "text/plain": [
       "Index(['type', 'ID', 'Classification', 'sequence_length_x', 'k-mer_match',\n",
       "       'id', 'sequence', 'quality', 'sequence_length_y', 'GC_content'],\n",
       "      dtype='object')"
      ]
     },
     "execution_count": 17,
     "metadata": {},
     "output_type": "execute_result"
    }
   ],
   "source": [
    "df_200.columns"
   ]
  },
  {
   "cell_type": "code",
   "execution_count": 21,
   "metadata": {},
   "outputs": [],
   "source": [
    "import pandas as pd\n",
    "\n",
    "def dataframe_to_fastq(df, file_path):\n",
    "    with open(file_path, 'w') as f:\n",
    "        for _, row in df.iterrows():\n",
    "            f.write(f\"@{row['id']}\\n\")         # Header line with ID\n",
    "            f.write(f\"{row['sequence']}\\n\")    # Sequence line\n",
    "            f.write(\"+\\n\")                     # Plus line\n",
    "            f.write(f\"{row['quality']}\\n\")     # Quality line\n",
    "dataframe_to_fastq(df_50, 'cleaned/df_50.fastq')\n"
   ]
  }
 ],
 "metadata": {
  "kernelspec": {
   "display_name": "Python 3",
   "language": "python",
   "name": "python3"
  },
  "language_info": {
   "codemirror_mode": {
    "name": "ipython",
    "version": 3
   },
   "file_extension": ".py",
   "mimetype": "text/x-python",
   "name": "python",
   "nbconvert_exporter": "python",
   "pygments_lexer": "ipython3",
   "version": "3.12.1"
  }
 },
 "nbformat": 4,
 "nbformat_minor": 2
}
